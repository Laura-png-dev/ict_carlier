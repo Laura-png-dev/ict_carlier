{
  "nbformat": 4,
  "nbformat_minor": 0,
  "metadata": {
    "colab": {
      "provenance": [],
      "include_colab_link": true
    },
    "kernelspec": {
      "name": "python3",
      "display_name": "Python 3"
    },
    "language_info": {
      "name": "python"
    }
  },
  "cells": [
    {
      "cell_type": "markdown",
      "metadata": {
        "id": "view-in-github",
        "colab_type": "text"
      },
      "source": [
        "<a href=\"https://colab.research.google.com/gist/gevargas/7d649f530011e70557c92889b0ba1d27/exercise3.ipynb\" target=\"_parent\"><img src=\"https://colab.research.google.com/assets/colab-badge.svg\" alt=\"Open In Colab\"/></a>"
      ]
    },
    {
      "cell_type": "code",
      "execution_count": null,
      "metadata": {
        "id": "IN8n3VCXgXRO",
        "colab": {
          "base_uri": "https://localhost:8080/"
        },
        "outputId": "36b1581e-8725-4c8c-df3b-c2a0e28baef2"
      },
      "outputs": [
        {
          "output_type": "stream",
          "name": "stdout",
          "text": [
            "Cloning into 'ense3'...\n",
            "remote: Enumerating objects: 41, done.\u001b[K\n",
            "remote: Total 41 (delta 0), reused 0 (delta 0), pack-reused 41\u001b[K\n",
            "Unpacking objects: 100% (41/41), done.\n"
          ]
        }
      ],
      "source": [
        "!git clone https://github.com/javieraespinosa/ense3.git"
      ]
    },
    {
      "cell_type": "markdown",
      "source": [
        "# ***Authors: Liselotte Swinkels & Youri van Veenendaal***"
      ],
      "metadata": {
        "id": "hqDJc4bitWqe"
      }
    },
    {
      "cell_type": "code",
      "source": [
        "#Read and check the dataset downloaded from the EuroStat\n",
        "\n",
        "import pandas as pd\n",
        "import numpy as np\n",
        "\n",
        "from sklearn.preprocessing import StandardScaler\n",
        "from sklearn import cluster\n",
        "\n",
        "edu=pd.read_csv('/content/ense3/files/ch02/educ_figdp_1_Data.csv',na_values=':')\n",
        "edu.head()"
      ],
      "metadata": {
        "id": "K4xtwi4fWL8b",
        "outputId": "877d5a58-6d81-475e-c8b0-793d10541fc0",
        "colab": {
          "base_uri": "https://localhost:8080/",
          "height": 206
        }
      },
      "execution_count": null,
      "outputs": [
        {
          "output_type": "execute_result",
          "data": {
            "text/plain": [
              "   TIME                            GEO  \\\n",
              "0  2000  European Union (28 countries)   \n",
              "1  2001  European Union (28 countries)   \n",
              "2  2002  European Union (28 countries)   \n",
              "3  2003  European Union (28 countries)   \n",
              "4  2004  European Union (28 countries)   \n",
              "\n",
              "                                            INDIC_ED  Value Flag and Footnotes  \n",
              "0  Total public expenditure on education as % of ...    NaN                NaN  \n",
              "1  Total public expenditure on education as % of ...    NaN                NaN  \n",
              "2  Total public expenditure on education as % of ...   5.00                  e  \n",
              "3  Total public expenditure on education as % of ...   5.03                  e  \n",
              "4  Total public expenditure on education as % of ...   4.95                  e  "
            ],
            "text/html": [
              "\n",
              "  <div id=\"df-b707bc65-d0d7-4825-b0c3-1f1930aa8881\">\n",
              "    <div class=\"colab-df-container\">\n",
              "      <div>\n",
              "<style scoped>\n",
              "    .dataframe tbody tr th:only-of-type {\n",
              "        vertical-align: middle;\n",
              "    }\n",
              "\n",
              "    .dataframe tbody tr th {\n",
              "        vertical-align: top;\n",
              "    }\n",
              "\n",
              "    .dataframe thead th {\n",
              "        text-align: right;\n",
              "    }\n",
              "</style>\n",
              "<table border=\"1\" class=\"dataframe\">\n",
              "  <thead>\n",
              "    <tr style=\"text-align: right;\">\n",
              "      <th></th>\n",
              "      <th>TIME</th>\n",
              "      <th>GEO</th>\n",
              "      <th>INDIC_ED</th>\n",
              "      <th>Value</th>\n",
              "      <th>Flag and Footnotes</th>\n",
              "    </tr>\n",
              "  </thead>\n",
              "  <tbody>\n",
              "    <tr>\n",
              "      <th>0</th>\n",
              "      <td>2000</td>\n",
              "      <td>European Union (28 countries)</td>\n",
              "      <td>Total public expenditure on education as % of ...</td>\n",
              "      <td>NaN</td>\n",
              "      <td>NaN</td>\n",
              "    </tr>\n",
              "    <tr>\n",
              "      <th>1</th>\n",
              "      <td>2001</td>\n",
              "      <td>European Union (28 countries)</td>\n",
              "      <td>Total public expenditure on education as % of ...</td>\n",
              "      <td>NaN</td>\n",
              "      <td>NaN</td>\n",
              "    </tr>\n",
              "    <tr>\n",
              "      <th>2</th>\n",
              "      <td>2002</td>\n",
              "      <td>European Union (28 countries)</td>\n",
              "      <td>Total public expenditure on education as % of ...</td>\n",
              "      <td>5.00</td>\n",
              "      <td>e</td>\n",
              "    </tr>\n",
              "    <tr>\n",
              "      <th>3</th>\n",
              "      <td>2003</td>\n",
              "      <td>European Union (28 countries)</td>\n",
              "      <td>Total public expenditure on education as % of ...</td>\n",
              "      <td>5.03</td>\n",
              "      <td>e</td>\n",
              "    </tr>\n",
              "    <tr>\n",
              "      <th>4</th>\n",
              "      <td>2004</td>\n",
              "      <td>European Union (28 countries)</td>\n",
              "      <td>Total public expenditure on education as % of ...</td>\n",
              "      <td>4.95</td>\n",
              "      <td>e</td>\n",
              "    </tr>\n",
              "  </tbody>\n",
              "</table>\n",
              "</div>\n",
              "      <button class=\"colab-df-convert\" onclick=\"convertToInteractive('df-b707bc65-d0d7-4825-b0c3-1f1930aa8881')\"\n",
              "              title=\"Convert this dataframe to an interactive table.\"\n",
              "              style=\"display:none;\">\n",
              "        \n",
              "  <svg xmlns=\"http://www.w3.org/2000/svg\" height=\"24px\"viewBox=\"0 0 24 24\"\n",
              "       width=\"24px\">\n",
              "    <path d=\"M0 0h24v24H0V0z\" fill=\"none\"/>\n",
              "    <path d=\"M18.56 5.44l.94 2.06.94-2.06 2.06-.94-2.06-.94-.94-2.06-.94 2.06-2.06.94zm-11 1L8.5 8.5l.94-2.06 2.06-.94-2.06-.94L8.5 2.5l-.94 2.06-2.06.94zm10 10l.94 2.06.94-2.06 2.06-.94-2.06-.94-.94-2.06-.94 2.06-2.06.94z\"/><path d=\"M17.41 7.96l-1.37-1.37c-.4-.4-.92-.59-1.43-.59-.52 0-1.04.2-1.43.59L10.3 9.45l-7.72 7.72c-.78.78-.78 2.05 0 2.83L4 21.41c.39.39.9.59 1.41.59.51 0 1.02-.2 1.41-.59l7.78-7.78 2.81-2.81c.8-.78.8-2.07 0-2.86zM5.41 20L4 18.59l7.72-7.72 1.47 1.35L5.41 20z\"/>\n",
              "  </svg>\n",
              "      </button>\n",
              "      \n",
              "  <style>\n",
              "    .colab-df-container {\n",
              "      display:flex;\n",
              "      flex-wrap:wrap;\n",
              "      gap: 12px;\n",
              "    }\n",
              "\n",
              "    .colab-df-convert {\n",
              "      background-color: #E8F0FE;\n",
              "      border: none;\n",
              "      border-radius: 50%;\n",
              "      cursor: pointer;\n",
              "      display: none;\n",
              "      fill: #1967D2;\n",
              "      height: 32px;\n",
              "      padding: 0 0 0 0;\n",
              "      width: 32px;\n",
              "    }\n",
              "\n",
              "    .colab-df-convert:hover {\n",
              "      background-color: #E2EBFA;\n",
              "      box-shadow: 0px 1px 2px rgba(60, 64, 67, 0.3), 0px 1px 3px 1px rgba(60, 64, 67, 0.15);\n",
              "      fill: #174EA6;\n",
              "    }\n",
              "\n",
              "    [theme=dark] .colab-df-convert {\n",
              "      background-color: #3B4455;\n",
              "      fill: #D2E3FC;\n",
              "    }\n",
              "\n",
              "    [theme=dark] .colab-df-convert:hover {\n",
              "      background-color: #434B5C;\n",
              "      box-shadow: 0px 1px 3px 1px rgba(0, 0, 0, 0.15);\n",
              "      filter: drop-shadow(0px 1px 2px rgba(0, 0, 0, 0.3));\n",
              "      fill: #FFFFFF;\n",
              "    }\n",
              "  </style>\n",
              "\n",
              "      <script>\n",
              "        const buttonEl =\n",
              "          document.querySelector('#df-b707bc65-d0d7-4825-b0c3-1f1930aa8881 button.colab-df-convert');\n",
              "        buttonEl.style.display =\n",
              "          google.colab.kernel.accessAllowed ? 'block' : 'none';\n",
              "\n",
              "        async function convertToInteractive(key) {\n",
              "          const element = document.querySelector('#df-b707bc65-d0d7-4825-b0c3-1f1930aa8881');\n",
              "          const dataTable =\n",
              "            await google.colab.kernel.invokeFunction('convertToInteractive',\n",
              "                                                     [key], {});\n",
              "          if (!dataTable) return;\n",
              "\n",
              "          const docLinkHtml = 'Like what you see? Visit the ' +\n",
              "            '<a target=\"_blank\" href=https://colab.research.google.com/notebooks/data_table.ipynb>data table notebook</a>'\n",
              "            + ' to learn more about interactive tables.';\n",
              "          element.innerHTML = '';\n",
              "          dataTable['output_type'] = 'display_data';\n",
              "          await google.colab.output.renderOutput(dataTable, element);\n",
              "          const docLink = document.createElement('div');\n",
              "          docLink.innerHTML = docLinkHtml;\n",
              "          element.appendChild(docLink);\n",
              "        }\n",
              "      </script>\n",
              "    </div>\n",
              "  </div>\n",
              "  "
            ]
          },
          "metadata": {},
          "execution_count": 2
        }
      ]
    },
    {
      "cell_type": "code",
      "source": [
        "import matplotlib.pylab as plt"
      ],
      "metadata": {
        "id": "mdlxUHIozxR_"
      },
      "execution_count": null,
      "outputs": []
    },
    {
      "cell_type": "code",
      "source": [
        "from sklearn import metrics\n",
        "metrics.homogeneity_score([0,0,1,1],[1,1,0,0])"
      ],
      "metadata": {
        "colab": {
          "base_uri": "https://localhost:8080/"
        },
        "id": "dEDFqj1ng2-1",
        "outputId": "ef1aaa30-58f0-4852-9eef-e6ef7d19c234"
      },
      "execution_count": null,
      "outputs": [
        {
          "output_type": "execute_result",
          "data": {
            "text/plain": [
              "1.0"
            ]
          },
          "metadata": {},
          "execution_count": 4
        }
      ]
    },
    {
      "cell_type": "code",
      "source": [
        "print(\"%.3f\" % metrics.homogeneity_score([0, 0, 1, 1], [0, 0, 1, 2]))"
      ],
      "metadata": {
        "colab": {
          "base_uri": "https://localhost:8080/"
        },
        "id": "kLv6lmtnhDVa",
        "outputId": "d33ecc93-283f-428b-a5f6-4f16afe0f572"
      },
      "execution_count": null,
      "outputs": [
        {
          "output_type": "stream",
          "name": "stdout",
          "text": [
            "1.000\n"
          ]
        }
      ]
    },
    {
      "cell_type": "code",
      "source": [
        "print(\"%.3f\" % metrics.homogeneity_score([0, 0, 1, 1], [0, 1, 2, 3]))"
      ],
      "metadata": {
        "colab": {
          "base_uri": "https://localhost:8080/"
        },
        "id": "aPhiYOd3hEp7",
        "outputId": "f06b33ac-583f-49b7-b9b2-9200910089c4"
      },
      "execution_count": null,
      "outputs": [
        {
          "output_type": "stream",
          "name": "stdout",
          "text": [
            "1.000\n"
          ]
        }
      ]
    },
    {
      "cell_type": "code",
      "source": [
        "print(\"%.3f\" % metrics.homogeneity_score([0, 0, 1, 1], [0, 1, 0, 1]))\n",
        "print(\"%.3f\" % metrics.homogeneity_score([0, 0, 1, 1], [0, 0, 0, 0]))\n",
        "print(metrics.completeness_score([0, 0, 1, 1], [1, 1, 0, 0]))\n",
        "print(metrics.completeness_score([0, 0, 1, 1], [0, 0, 0, 0]))\n",
        "print(metrics.completeness_score([0, 1, 2, 3], [0, 0, 1, 1]))\n",
        "print(metrics.completeness_score([0, 0, 1, 1], [0, 1, 0, 1]))\n",
        "print(metrics.completeness_score([0, 0, 0, 0], [0, 1, 2, 3]))"
      ],
      "metadata": {
        "colab": {
          "base_uri": "https://localhost:8080/"
        },
        "id": "KDLggdZLhEsF",
        "outputId": "1bb34508-49a2-478f-e589-ba18fc738b4a"
      },
      "execution_count": null,
      "outputs": [
        {
          "output_type": "stream",
          "name": "stdout",
          "text": [
            "0.000\n",
            "0.000\n",
            "1.0\n",
            "1.0\n",
            "0.9999999999999999\n",
            "0.0\n",
            "0.0\n"
          ]
        }
      ]
    },
    {
      "cell_type": "code",
      "source": [
        "print (metrics.v_measure_score([0, 0, 1, 1], [0, 0, 1, 1]))\n",
        "print (metrics.v_measure_score([0, 0, 1, 1], [1, 1, 0, 0]))"
      ],
      "metadata": {
        "colab": {
          "base_uri": "https://localhost:8080/"
        },
        "id": "gJfJusbxjOxt",
        "outputId": "27bdc94d-a314-4ee8-cbf5-e0a6b3719ba8"
      },
      "execution_count": null,
      "outputs": [
        {
          "output_type": "stream",
          "name": "stdout",
          "text": [
            "1.0\n",
            "1.0\n"
          ]
        }
      ]
    },
    {
      "cell_type": "markdown",
      "source": [
        "# **Question: Labelings that assign all classes members to the same clusters are: ___________, but not _____________:**\n",
        "\n",
        "*Complete*, but not necessarily *homogeneous*. For example class 1 and 2 can both be fully in a cluster. This makes that for both classes all the classes members are in the same cluster, but the cluster itself does not consist of only one class!\n"
      ],
      "metadata": {
        "id": "RGQIfcxTjVZ7"
      }
    },
    {
      "cell_type": "code",
      "source": [
        "print(\"%.3f\" % metrics.completeness_score([0, 1, 2, 3], [0, 0, 0, 0]))\n",
        "print(\"%.3f\" % metrics.homogeneity_score([0, 1, 2, 3], [0, 0, 0, 0]))\n",
        "print(\"%.3f\" % metrics.v_measure_score([0, 1, 2, 3], [0, 0, 0, 0]))\n",
        "print(\"%.3f\" % metrics.v_measure_score([0, 0, 1, 2], [0, 0, 1, 1]))\n",
        "print(\"%.3f\" % metrics.v_measure_score([0, 1, 2, 3], [0, 0, 1, 1]))"
      ],
      "metadata": {
        "colab": {
          "base_uri": "https://localhost:8080/"
        },
        "id": "LxkYgOCjhEuc",
        "outputId": "aeb40906-bb40-4f29-d136-213ae78e6ef3"
      },
      "execution_count": null,
      "outputs": [
        {
          "output_type": "stream",
          "name": "stdout",
          "text": [
            "1.000\n",
            "0.000\n",
            "0.000\n",
            "0.800\n",
            "0.667\n"
          ]
        }
      ]
    },
    {
      "cell_type": "markdown",
      "source": [
        "# **Question: Labelings that have pure clusters with members coming from the same classes are ________________ but un-necessary splits harm ____________________ and thus penalise V-measure as well:**\n",
        "\n",
        "*Homogene*, but un-necessary splits the classes harms *completeness* and thus penelaise V-measure as well. For example, cluster 1 can be totally consisting of class 1 and cluster 2 of class 2. But either class 1 or class 2 could also be present in a 3rd and 4rd cluster."
      ],
      "metadata": {
        "id": "hwLrp0AdkQON"
      }
    },
    {
      "cell_type": "code",
      "source": [
        "print(\"%.3f\" % metrics.v_measure_score([0, 0, 1, 1], [0, 0, 1, 2]))\n",
        "print(\"%.3f\" % metrics.v_measure_score([0, 0, 1, 1], [0, 1, 2, 3]))"
      ],
      "metadata": {
        "colab": {
          "base_uri": "https://localhost:8080/"
        },
        "id": "9Z1OAcSEkTyE",
        "outputId": "d5fc3fb4-0ffb-4d90-fb81-1ec13aa79777"
      },
      "execution_count": null,
      "outputs": [
        {
          "output_type": "stream",
          "name": "stdout",
          "text": [
            "0.800\n",
            "0.667\n"
          ]
        }
      ]
    },
    {
      "cell_type": "code",
      "source": [
        "print(\"%.3f\" % metrics.v_measure_score([0, 0, 0, 0], [0, 1, 2, 3]))"
      ],
      "metadata": {
        "colab": {
          "base_uri": "https://localhost:8080/"
        },
        "id": "e3-5nYSDlILs",
        "outputId": "56204b30-fec7-4fd7-d483-22779f50b26b"
      },
      "execution_count": null,
      "outputs": [
        {
          "output_type": "stream",
          "name": "stdout",
          "text": [
            "0.000\n"
          ]
        }
      ]
    },
    {
      "cell_type": "markdown",
      "source": [
        "# **Question: Clusters that include samples from totally different classes totally destroy the _______________________  of the labelling, hence:**\n",
        "\n",
        "*v_measure*, hence the v_measure will be close to 0\n"
      ],
      "metadata": {
        "id": "PERP9zt7lTWa"
      }
    },
    {
      "cell_type": "code",
      "source": [
        "print(\"%.3f\" % metrics.v_measure_score([0, 0, 1, 1], [0, 0, 0, 0]))"
      ],
      "metadata": {
        "colab": {
          "base_uri": "https://localhost:8080/"
        },
        "id": "lDN8U9z5lhi8",
        "outputId": "871c071d-03ca-4bfb-f4c7-9b9dc24dbde5"
      },
      "execution_count": null,
      "outputs": [
        {
          "output_type": "stream",
          "name": "stdout",
          "text": [
            "0.000\n"
          ]
        }
      ]
    },
    {
      "cell_type": "markdown",
      "source": [
        "# **K-means algorithm**"
      ],
      "metadata": {
        "id": "Aoc59Lt9oN61"
      }
    },
    {
      "cell_type": "code",
      "source": [
        "import numpy as np\n",
        "\n",
        "#Create some data\n",
        "MAXN=40\n",
        "X = np.concatenate([1.25*np.random.randn(MAXN,2), 5+1.5*np.random.randn(MAXN,2)])\n",
        "X = np.concatenate([X,[8,3]+1.2*np.random.randn(MAXN,2)])\n",
        "X.shape"
      ],
      "metadata": {
        "colab": {
          "base_uri": "https://localhost:8080/"
        },
        "id": "Om8E0yGZoTGr",
        "outputId": "c5004bc8-fac6-49d4-bad3-6e1c0e19e392"
      },
      "execution_count": null,
      "outputs": [
        {
          "output_type": "execute_result",
          "data": {
            "text/plain": [
              "(120, 2)"
            ]
          },
          "metadata": {},
          "execution_count": 13
        }
      ]
    },
    {
      "cell_type": "code",
      "source": [
        "#Just for visualization purposes, create the labels of the 3 distributions\n",
        "y = np.concatenate([np.ones((MAXN,1)),2*np.ones((MAXN,1))])\n",
        "y = np.concatenate([y,3*np.ones((MAXN,1))])\n",
        "\n",
        "plt.subplot(1,2,1)\n",
        "plt.scatter(X[(y==1).ravel(),0],X[(y==1).ravel(),1],color='r')\n",
        "plt.scatter(X[(y==2).ravel(),0],X[(y==2).ravel(),1],color='b')\n",
        "plt.scatter(X[(y==3).ravel(),0],X[(y==3).ravel(),1],color='g')\n",
        "plt.title('Data as were generated')\n",
        "\n",
        "plt.subplot(1,2,2)\n",
        "plt.scatter(X[:,0],X[:,1],color='r')\n",
        "plt.title('Data as the algorithm sees them')\n",
        "\n",
        "from sklearn import cluster\n",
        "\n",
        "K=3 # Assuming to be 3 clusters!\n",
        "\n",
        "clf = cluster.KMeans(init='random', n_clusters=K)\n",
        "clf.fit(X)"
      ],
      "metadata": {
        "colab": {
          "base_uri": "https://localhost:8080/",
          "height": 298
        },
        "id": "r7TTXz06oi-0",
        "outputId": "1456e4ea-8d63-49cd-8a2c-803a06313b0d"
      },
      "execution_count": null,
      "outputs": [
        {
          "output_type": "execute_result",
          "data": {
            "text/plain": [
              "KMeans(init='random', n_clusters=3)"
            ]
          },
          "metadata": {},
          "execution_count": 14
        },
        {
          "output_type": "display_data",
          "data": {
            "text/plain": [
              "<Figure size 432x288 with 2 Axes>"
            ],
            "image/png": "[encoded data removed]"
          },
          "metadata": {
            "needs_background": "light"
          }
        }
      ]
    },
    {
      "cell_type": "code",
      "source": [
        "print (clf.labels_) # or\n",
        "print (clf.predict(X)) # equivalent\n"
      ],
      "metadata": {
        "id": "4GymPkuEo72E",
        "colab": {
          "base_uri": "https://localhost:8080/"
        },
        "outputId": "e0f0c2df-85e6-42fb-8981-c5dc66078581"
      },
      "execution_count": null,
      "outputs": [
        {
          "output_type": "stream",
          "name": "stdout",
          "text": [
            "[1 1 1 1 1 1 1 1 1 1 1 1 1 1 1 1 1 1 1 1 1 1 1 1 1 1 1 1 1 1 1 1 1 1 1 1 1\n",
            " 1 1 1 2 2 2 2 2 2 2 2 0 2 0 2 2 0 2 2 2 2 2 2 2 2 2 2 2 0 2 2 2 0 2 2 2 2\n",
            " 2 2 2 2 2 2 0 0 0 0 0 0 0 0 0 0 0 0 0 0 0 0 0 0 0 0 0 0 0 0 2 0 0 0 0 2 0\n",
            " 0 0 0 0 0 2 0 0 0]\n",
            "[1 1 1 1 1 1 1 1 1 1 1 1 1 1 1 1 1 1 1 1 1 1 1 1 1 1 1 1 1 1 1 1 1 1 1 1 1\n",
            " 1 1 1 2 2 2 2 2 2 2 2 0 2 0 2 2 0 2 2 2 2 2 2 2 2 2 2 2 0 2 2 2 0 2 2 2 2\n",
            " 2 2 2 2 2 2 0 0 0 0 0 0 0 0 0 0 0 0 0 0 0 0 0 0 0 0 0 0 0 0 2 0 0 0 0 2 0\n",
            " 0 0 0 0 0 2 0 0 0]\n"
          ]
        }
      ]
    },
    {
      "cell_type": "code",
      "source": [
        "print (X[(y==1).ravel(),0]) #numpy.ravel() returns a flattened array\n",
        "print (X[(y==1).ravel(),1])"
      ],
      "metadata": {
        "id": "P2jpFUBdpIFs"
      },
      "execution_count": null,
      "outputs": []
    },
    {
      "cell_type": "code",
      "source": [
        "plt.scatter(X[(y==1).ravel(),0],X[(y==1).ravel(),1],color='r')\n",
        "plt.scatter(X[(y==2).ravel(),0],X[(y==2).ravel(),1],color='b')\n",
        "plt.scatter(X[(y==3).ravel(),0],X[(y==3).ravel(),1],color='g')\n",
        "\n",
        "fig = plt.gcf()\n",
        "fig.set_size_inches((6,5))"
      ],
      "metadata": {
        "id": "XqlUYeGopS0E",
        "colab": {
          "base_uri": "https://localhost:8080/",
          "height": 320
        },
        "outputId": "e83d5c1e-5c56-4553-f36d-16c72104e3bd"
      },
      "execution_count": null,
      "outputs": [
        {
          "output_type": "display_data",
          "data": {
            "text/plain": [
              "<Figure size 432x360 with 1 Axes>"
            ],
            "image/png": "[encoded data removed]"
          },
          "metadata": {
            "needs_background": "light"
          }
        }
      ]
    },
    {
      "cell_type": "code",
      "source": [
        "x = np.linspace(-5,15,200)\n",
        "XX,YY = np.meshgrid(x,x)\n",
        "sz=XX.shape\n",
        "data=np.c_[XX.ravel(),YY.ravel()]\n",
        "# c_ translates slice objects to concatenation along the second axis."
      ],
      "metadata": {
        "id": "UKgclr86psrs"
      },
      "execution_count": null,
      "outputs": []
    },
    {
      "cell_type": "code",
      "source": [
        "Z=clf.predict(data) # returns the labels of the data\n",
        "print(Z)"
      ],
      "metadata": {
        "id": "KxaRLrd7pybs",
        "colab": {
          "base_uri": "https://localhost:8080/"
        },
        "outputId": "b9798b74-d6ef-49f0-c2a6-a5c23615869b"
      },
      "execution_count": null,
      "outputs": [
        {
          "output_type": "stream",
          "name": "stdout",
          "text": [
            "[1 1 1 ... 0 0 0]\n"
          ]
        }
      ]
    },
    {
      "cell_type": "markdown",
      "source": [
        "# **Questions: How many “misclusterings” do we have?**\n",
        "\n",
        "If we look closely and draw lines between the clusters. We can see that there are about 7 misclusters. Four blue ones and 3 green ones."
      ],
      "metadata": {
        "id": "XkYfgbC-qZnd"
      }
    },
    {
      "cell_type": "code",
      "source": [
        "# Visualize space partition\n",
        "plt.imshow(Z.reshape(sz), interpolation='bilinear', origin='lower',\n",
        "extent=(-5,15,-5,15),alpha=0.3, vmin=0, vmax=K-1)\n",
        "plt.title('Space partitions', size=14)\n",
        "plt.scatter(X[(y==1).ravel(),0],X[(y==1).ravel(),1],color='r')\n",
        "plt.scatter(X[(y==2).ravel(),0],X[(y==2).ravel(),1],color='b')\n",
        "plt.scatter(X[(y==3).ravel(),0],X[(y==3).ravel(),1],color='g')\n",
        "\n",
        "fig = plt.gcf()\n",
        "fig.set_size_inches((6,5))"
      ],
      "metadata": {
        "colab": {
          "base_uri": "https://localhost:8080/",
          "height": 337
        },
        "id": "Up5hhyg_tJRE",
        "outputId": "05c97f91-7334-4e56-e8d3-32bb789f659d"
      },
      "execution_count": null,
      "outputs": [
        {
          "output_type": "display_data",
          "data": {
            "text/plain": [
              "<Figure size 432x360 with 1 Axes>"
            ],
            "image/png": "[encoded data removed]"
          },
          "metadata": {
            "needs_background": "light"
          }
        }
      ]
    },
    {
      "cell_type": "code",
      "source": [
        "clf = cluster.KMeans(n_clusters=K, random_state=0)\n",
        "#initialize the k-means clustering\n",
        "clf.fit(X) #run the k-means clustering\n",
        "\n",
        "data=np.c_[XX.ravel(),YY.ravel()]\n",
        "Z=clf.predict(data) # returns the clustering labels of the data"
      ],
      "metadata": {
        "id": "l4xQH5tqtLol"
      },
      "execution_count": null,
      "outputs": []
    },
    {
      "cell_type": "code",
      "source": [
        "plt.title('Final result of K-means', size=14)\n",
        "\n",
        "plt.scatter(X[(y==1).ravel(),0],X[(y==1).ravel(),1],color='r')\n",
        "plt.scatter(X[(y==2).ravel(),0],X[(y==2).ravel(),1],color='b')\n",
        "plt.scatter(X[(y==3).ravel(),0],X[(y==3).ravel(),1],color='g')\n",
        "\n",
        "plt.imshow(Z.reshape(sz), interpolation='bilinear', origin='lower',\n",
        "extent=(-5,15,-5,15),alpha=0.3, vmin=0, vmax=K-1)\n",
        "\n",
        "x = np.linspace(-5,15,200)\n",
        "XX,YY = np.meshgrid(x,x)\n",
        "fig = plt.gcf()\n",
        "fig.set_size_inches((6,5))"
      ],
      "metadata": {
        "colab": {
          "base_uri": "https://localhost:8080/",
          "height": 337
        },
        "id": "W-ZmAKU4tlDb",
        "outputId": "267b8149-96d5-46c3-98de-c950a992cdbf"
      },
      "execution_count": null,
      "outputs": [
        {
          "output_type": "display_data",
          "data": {
            "text/plain": [
              "<Figure size 432x360 with 1 Axes>"
            ],
            "image/png": "[encoded data removed]"
          },
          "metadata": {
            "needs_background": "light"
          }
        }
      ]
    },
    {
      "cell_type": "markdown",
      "source": [
        "So as we can see in the final result of the k-means, that there is one more miscluster which could not be seen by the blind eye. At the end we have 5 blue misclusterings and 3 green misclusterings."
      ],
      "metadata": {
        "id": "WzW4XBtDvo-A"
      }
    },
    {
      "cell_type": "code",
      "source": [
        "clf = cluster.KMeans(init='random', n_clusters=K, random_state=0)\n",
        "#initialize the k-means clustering\n",
        "clf.fit(X) #run the k-means clustering\n",
        "Zx=clf.predict(X)\n",
        "\n",
        "plt.subplot(1,3,1)\n",
        "plt.title('Original labels', size=14)\n",
        "plt.scatter(X[(y==1).ravel(),0],X[(y==1).ravel(),1],color='r')\n",
        "plt.scatter(X[(y==2).ravel(),0],X[(y==2).ravel(),1],color='b') # b\n",
        "plt.scatter(X[(y==3).ravel(),0],X[(y==3).ravel(),1],color='g') # g\n",
        "fig = plt.gcf()\n",
        "fig.set_size_inches((12,3))\n",
        "\n",
        "plt.subplot(1,3,2)\n",
        "plt.title('Data without labels', size=14)\n",
        "plt.scatter(X[(y==1).ravel(),0],X[(y==1).ravel(),1],color='r')\n",
        "plt.scatter(X[(y==2).ravel(),0],X[(y==2).ravel(),1],color='r') # b\n",
        "plt.scatter(X[(y==3).ravel(),0],X[(y==3).ravel(),1],color='r') # g\n",
        "fig = plt.gcf()\n",
        "fig.set_size_inches((12,3))\n",
        "\n",
        "plt.subplot(1,3,3)\n",
        "plt.title('Clustering labels', size=14)\n",
        "plt.scatter(X[(Zx==1).ravel(),0],X[(Zx==1).ravel(),1],color='r')\n",
        "plt.scatter(X[(Zx==2).ravel(),0],X[(Zx==2).ravel(),1],color='b')\n",
        "plt.scatter(X[(Zx==0).ravel(),0],X[(Zx==0).ravel(),1],color='g')\n",
        "fig = plt.gcf()\n",
        "fig.set_size_inches((12,3))"
      ],
      "metadata": {
        "colab": {
          "base_uri": "https://localhost:8080/",
          "height": 228
        },
        "id": "TpWM2SfKtwSV",
        "outputId": "f70b57ac-280c-485d-e083-61e02ba8e5cc"
      },
      "execution_count": null,
      "outputs": [
        {
          "output_type": "display_data",
          "data": {
            "text/plain": [
              "<Figure size 864x216 with 3 Axes>"
            ],
            "image/png": "[encoded data removed]"
          },
          "metadata": {
            "needs_background": "light"
          }
        }
      ]
    },
    {
      "cell_type": "markdown",
      "source": [
        "# **Question: Shall the centroids belong to the original set of points?**\n",
        "\n",
        "Yes, the first centroid is chosen by assigning it to the location of a randomly chosen data point."
      ],
      "metadata": {
        "id": "44IUtZn4ugj2"
      }
    },
    {
      "cell_type": "code",
      "source": [
        "from sklearn import metrics\n",
        "\n",
        "clf = cluster.KMeans(n_clusters=K, init='k-means++', random_state=0,\n",
        "max_iter=300, n_init=10)\n",
        "#initialize the k-means clustering\n",
        "clf.fit(X) #run the k-means clustering\n",
        "\n",
        "print ('Final evaluation of the clustering:')\n",
        "\n",
        "print('Inertia: %.2f' % clf.inertia_)\n",
        "\n",
        "print('Adjusted_rand_score %.2f' % metrics.adjusted_rand_score(y.ravel(),\n",
        "clf.labels_))\n",
        "\n",
        "print('Homogeneity %.2f' % metrics.homogeneity_score(y.ravel(),\n",
        "clf.labels_))\n",
        "\n",
        "print('Completeness %.2f' % metrics.completeness_score(y.ravel(),\n",
        "clf.labels_))\n",
        "\n",
        "print('V_measure %.2f' % metrics.v_measure_score(y.ravel(), clf.labels_))\n",
        "\n",
        "print('Silhouette %.2f' % metrics.silhouette_score(X, clf.labels_,\n",
        "metric='euclidean'))\n",
        "\n",
        "clf1 = cluster.KMeans(n_clusters=K, init='random', random_state=0,\n",
        "max_iter=2, n_init=2)\n",
        "#initialize the k-means clustering\n",
        "clf1.fit(X) #run the k-means clustering\n",
        "\n",
        "print ('Final evaluation of the clustering:')\n",
        "\n",
        "print ('Inertia: %.2f' % clf1.inertia_)\n",
        "\n",
        "print ('Adjusted_rand_score %.2f' % metrics.adjusted_rand_score(y.ravel(),\n",
        "clf1.labels_))\n",
        "\n",
        "print ('Homogeneity %.2f' % metrics.homogeneity_score(y.ravel(),\n",
        "clf1.labels_))\n",
        "\n",
        "print ('Completeness %.2f' % metrics.completeness_score(y.ravel(),\n",
        "clf1.labels_))\n",
        "\n",
        "print ('V_measure %.2f' % metrics.v_measure_score(y.ravel(),\n",
        "clf1.labels_))\n",
        "\n",
        "print ('Silhouette %.2f' % metrics.silhouette_score(X, clf1.labels_,\n",
        "metric='euclidean'))"
      ],
      "metadata": {
        "colab": {
          "base_uri": "https://localhost:8080/"
        },
        "id": "agqAATI8wCH0",
        "outputId": "c96ef596-d149-4138-bc89-4e28aaf46706"
      },
      "execution_count": null,
      "outputs": [
        {
          "output_type": "stream",
          "name": "stdout",
          "text": [
            "Final evaluation of the clustering:\n",
            "Inertia: 374.03\n",
            "Adjusted_rand_score 0.80\n",
            "Homogeneity 0.79\n",
            "Completeness 0.79\n",
            "V_measure 0.79\n",
            "Silhouette 0.52\n",
            "Final evaluation of the clustering:\n",
            "Inertia: 438.66\n",
            "Adjusted_rand_score 0.68\n",
            "Homogeneity 0.73\n",
            "Completeness 0.75\n",
            "V_measure 0.74\n",
            "Silhouette 0.51\n"
          ]
        }
      ]
    },
    {
      "cell_type": "markdown",
      "source": [
        "# **Case Study EUROSTAT**"
      ],
      "metadata": {
        "id": "p5CFNmsVxtNJ"
      }
    },
    {
      "cell_type": "markdown",
      "source": [
        "# **Applying clustering to analyze countries according to their education resourses**\n",
        "\n"
      ],
      "metadata": {
        "id": "uvYnYelzyVqf"
      }
    },
    {
      "cell_type": "code",
      "source": [
        "#Read and check the dataset downloaded from the EuroStat\n",
        "\n",
        "import pandas as pd\n",
        "import numpy as np\n",
        "\n",
        "from sklearn.preprocessing import StandardScaler\n",
        "from sklearn import cluster\n",
        "\n",
        "\n",
        "edu=pd.read_csv('/content/ense3/files/ch02/educ_figdp_1_Data.csv',na_values=':')\n",
        "edu.head()"
      ],
      "metadata": {
        "colab": {
          "base_uri": "https://localhost:8080/",
          "height": 354
        },
        "id": "LQNwpdOYyOWG",
        "outputId": "c3dc26b9-a09f-4e5c-dc1b-18329939f167"
      },
      "execution_count": null,
      "outputs": [
        {
          "output_type": "execute_result",
          "data": {
            "text/plain": [
              "   TIME                            GEO  \\\n",
              "0  2000  European Union (28 countries)   \n",
              "1  2001  European Union (28 countries)   \n",
              "2  2002  European Union (28 countries)   \n",
              "3  2003  European Union (28 countries)   \n",
              "4  2004  European Union (28 countries)   \n",
              "\n",
              "                                            INDIC_ED  Value Flag and Footnotes  \n",
              "0  Total public expenditure on education as % of ...    NaN                NaN  \n",
              "1  Total public expenditure on education as % of ...    NaN                NaN  \n",
              "2  Total public expenditure on education as % of ...   5.00                  e  \n",
              "3  Total public expenditure on education as % of ...   5.03                  e  \n",
              "4  Total public expenditure on education as % of ...   4.95                  e  "
            ],
            "text/html": [
              "\n",
              "  <div id=\"df-d9864613-29b5-4e45-9d64-bc705a6514ee\">\n",
              "    <div class=\"colab-df-container\">\n",
              "      <div>\n",
              "<style scoped>\n",
              "    .dataframe tbody tr th:only-of-type {\n",
              "        vertical-align: middle;\n",
              "    }\n",
              "\n",
              "    .dataframe tbody tr th {\n",
              "        vertical-align: top;\n",
              "    }\n",
              "\n",
              "    .dataframe thead th {\n",
              "        text-align: right;\n",
              "    }\n",
              "</style>\n",
              "<table border=\"1\" class=\"dataframe\">\n",
              "  <thead>\n",
              "    <tr style=\"text-align: right;\">\n",
              "      <th></th>\n",
              "      <th>TIME</th>\n",
              "      <th>GEO</th>\n",
              "      <th>INDIC_ED</th>\n",
              "      <th>Value</th>\n",
              "      <th>Flag and Footnotes</th>\n",
              "    </tr>\n",
              "  </thead>\n",
              "  <tbody>\n",
              "    <tr>\n",
              "      <th>0</th>\n",
              "      <td>2000</td>\n",
              "      <td>European Union (28 countries)</td>\n",
              "      <td>Total public expenditure on education as % of ...</td>\n",
              "      <td>NaN</td>\n",
              "      <td>NaN</td>\n",
              "    </tr>\n",
              "    <tr>\n",
              "      <th>1</th>\n",
              "      <td>2001</td>\n",
              "      <td>European Union (28 countries)</td>\n",
              "      <td>Total public expenditure on education as % of ...</td>\n",
              "      <td>NaN</td>\n",
              "      <td>NaN</td>\n",
              "    </tr>\n",
              "    <tr>\n",
              "      <th>2</th>\n",
              "      <td>2002</td>\n",
              "      <td>European Union (28 countries)</td>\n",
              "      <td>Total public expenditure on education as % of ...</td>\n",
              "      <td>5.00</td>\n",
              "      <td>e</td>\n",
              "    </tr>\n",
              "    <tr>\n",
              "      <th>3</th>\n",
              "      <td>2003</td>\n",
              "      <td>European Union (28 countries)</td>\n",
              "      <td>Total public expenditure on education as % of ...</td>\n",
              "      <td>5.03</td>\n",
              "      <td>e</td>\n",
              "    </tr>\n",
              "    <tr>\n",
              "      <th>4</th>\n",
              "      <td>2004</td>\n",
              "      <td>European Union (28 countries)</td>\n",
              "      <td>Total public expenditure on education as % of ...</td>\n",
              "      <td>4.95</td>\n",
              "      <td>e</td>\n",
              "    </tr>\n",
              "  </tbody>\n",
              "</table>\n",
              "</div>\n",
              "      <button class=\"colab-df-convert\" onclick=\"convertToInteractive('df-d9864613-29b5-4e45-9d64-bc705a6514ee')\"\n",
              "              title=\"Convert this dataframe to an interactive table.\"\n",
              "              style=\"display:none;\">\n",
              "        \n",
              "  <svg xmlns=\"http://www.w3.org/2000/svg\" height=\"24px\"viewBox=\"0 0 24 24\"\n",
              "       width=\"24px\">\n",
              "    <path d=\"M0 0h24v24H0V0z\" fill=\"none\"/>\n",
              "    <path d=\"M18.56 5.44l.94 2.06.94-2.06 2.06-.94-2.06-.94-.94-2.06-.94 2.06-2.06.94zm-11 1L8.5 8.5l.94-2.06 2.06-.94-2.06-.94L8.5 2.5l-.94 2.06-2.06.94zm10 10l.94 2.06.94-2.06 2.06-.94-2.06-.94-.94-2.06-.94 2.06-2.06.94z\"/><path d=\"M17.41 7.96l-1.37-1.37c-.4-.4-.92-.59-1.43-.59-.52 0-1.04.2-1.43.59L10.3 9.45l-7.72 7.72c-.78.78-.78 2.05 0 2.83L4 21.41c.39.39.9.59 1.41.59.51 0 1.02-.2 1.41-.59l7.78-7.78 2.81-2.81c.8-.78.8-2.07 0-2.86zM5.41 20L4 18.59l7.72-7.72 1.47 1.35L5.41 20z\"/>\n",
              "  </svg>\n",
              "      </button>\n",
              "      \n",
              "  <style>\n",
              "    .colab-df-container {\n",
              "      display:flex;\n",
              "      flex-wrap:wrap;\n",
              "      gap: 12px;\n",
              "    }\n",
              "\n",
              "    .colab-df-convert {\n",
              "      background-color: #E8F0FE;\n",
              "      border: none;\n",
              "      border-radius: 50%;\n",
              "      cursor: pointer;\n",
              "      display: none;\n",
              "      fill: #1967D2;\n",
              "      height: 32px;\n",
              "      padding: 0 0 0 0;\n",
              "      width: 32px;\n",
              "    }\n",
              "\n",
              "    .colab-df-convert:hover {\n",
              "      background-color: #E2EBFA;\n",
              "      box-shadow: 0px 1px 2px rgba(60, 64, 67, 0.3), 0px 1px 3px 1px rgba(60, 64, 67, 0.15);\n",
              "      fill: #174EA6;\n",
              "    }\n",
              "\n",
              "    [theme=dark] .colab-df-convert {\n",
              "      background-color: #3B4455;\n",
              "      fill: #D2E3FC;\n",
              "    }\n",
              "\n",
              "    [theme=dark] .colab-df-convert:hover {\n",
              "      background-color: #434B5C;\n",
              "      box-shadow: 0px 1px 3px 1px rgba(0, 0, 0, 0.15);\n",
              "      filter: drop-shadow(0px 1px 2px rgba(0, 0, 0, 0.3));\n",
              "      fill: #FFFFFF;\n",
              "    }\n",
              "  </style>\n",
              "\n",
              "      <script>\n",
              "        const buttonEl =\n",
              "          document.querySelector('#df-d9864613-29b5-4e45-9d64-bc705a6514ee button.colab-df-convert');\n",
              "        buttonEl.style.display =\n",
              "          google.colab.kernel.accessAllowed ? 'block' : 'none';\n",
              "\n",
              "        async function convertToInteractive(key) {\n",
              "          const element = document.querySelector('#df-d9864613-29b5-4e45-9d64-bc705a6514ee');\n",
              "          const dataTable =\n",
              "            await google.colab.kernel.invokeFunction('convertToInteractive',\n",
              "                                                     [key], {});\n",
              "          if (!dataTable) return;\n",
              "\n",
              "          const docLinkHtml = 'Like what you see? Visit the ' +\n",
              "            '<a target=\"_blank\" href=https://colab.research.google.com/notebooks/data_table.ipynb>data table notebook</a>'\n",
              "            + ' to learn more about interactive tables.';\n",
              "          element.innerHTML = '';\n",
              "          dataTable['output_type'] = 'display_data';\n",
              "          await google.colab.output.renderOutput(dataTable, element);\n",
              "          const docLink = document.createElement('div');\n",
              "          docLink.innerHTML = docLinkHtml;\n",
              "          element.appendChild(docLink);\n",
              "        }\n",
              "      </script>\n",
              "    </div>\n",
              "  </div>\n",
              "  "
            ]
          },
          "metadata": {},
          "execution_count": 25
        }
      ]
    },
    {
      "cell_type": "code",
      "source": [
        "#Pivot table in order to get a nice feature vector representation with dual indexing by TIME and GEO\n",
        "pivedu=pd.pivot_table(edu, values='Value', index=['TIME', 'GEO'], columns=['INDIC_ED'])\n",
        "pivedu.head()"
      ],
      "metadata": {
        "id": "V7xkslscyOYl",
        "colab": {
          "base_uri": "https://localhost:8080/",
          "height": 316
        },
        "outputId": "b63d5162-10c7-4b2f-f947-de21df9037a8"
      },
      "execution_count": null,
      "outputs": [
        {
          "output_type": "execute_result",
          "data": {
            "text/plain": [
              "INDIC_ED             Total public expenditure on education as % of GDP, for all levels of education combined\n",
              "TIME GEO                                                                                                    \n",
              "2000 Austria                                                      5.66                                      \n",
              "     Bulgaria                                                     3.88                                      \n",
              "     Cyprus                                                       5.42                                      \n",
              "     Czech Republic                                               3.83                                      \n",
              "     Denmark                                                      8.28                                      "
            ],
            "text/html": [
              "\n",
              "  <div id=\"df-a4275296-3f68-4517-8e36-c55564f0eac9\">\n",
              "    <div class=\"colab-df-container\">\n",
              "      <div>\n",
              "<style scoped>\n",
              "    .dataframe tbody tr th:only-of-type {\n",
              "        vertical-align: middle;\n",
              "    }\n",
              "\n",
              "    .dataframe tbody tr th {\n",
              "        vertical-align: top;\n",
              "    }\n",
              "\n",
              "    .dataframe thead th {\n",
              "        text-align: right;\n",
              "    }\n",
              "</style>\n",
              "<table border=\"1\" class=\"dataframe\">\n",
              "  <thead>\n",
              "    <tr style=\"text-align: right;\">\n",
              "      <th></th>\n",
              "      <th>INDIC_ED</th>\n",
              "      <th>Total public expenditure on education as % of GDP, for all levels of education combined</th>\n",
              "    </tr>\n",
              "    <tr>\n",
              "      <th>TIME</th>\n",
              "      <th>GEO</th>\n",
              "      <th></th>\n",
              "    </tr>\n",
              "  </thead>\n",
              "  <tbody>\n",
              "    <tr>\n",
              "      <th rowspan=\"5\" valign=\"top\">2000</th>\n",
              "      <th>Austria</th>\n",
              "      <td>5.66</td>\n",
              "    </tr>\n",
              "    <tr>\n",
              "      <th>Bulgaria</th>\n",
              "      <td>3.88</td>\n",
              "    </tr>\n",
              "    <tr>\n",
              "      <th>Cyprus</th>\n",
              "      <td>5.42</td>\n",
              "    </tr>\n",
              "    <tr>\n",
              "      <th>Czech Republic</th>\n",
              "      <td>3.83</td>\n",
              "    </tr>\n",
              "    <tr>\n",
              "      <th>Denmark</th>\n",
              "      <td>8.28</td>\n",
              "    </tr>\n",
              "  </tbody>\n",
              "</table>\n",
              "</div>\n",
              "      <button class=\"colab-df-convert\" onclick=\"convertToInteractive('df-a4275296-3f68-4517-8e36-c55564f0eac9')\"\n",
              "              title=\"Convert this dataframe to an interactive table.\"\n",
              "              style=\"display:none;\">\n",
              "        \n",
              "  <svg xmlns=\"http://www.w3.org/2000/svg\" height=\"24px\"viewBox=\"0 0 24 24\"\n",
              "       width=\"24px\">\n",
              "    <path d=\"M0 0h24v24H0V0z\" fill=\"none\"/>\n",
              "    <path d=\"M18.56 5.44l.94 2.06.94-2.06 2.06-.94-2.06-.94-.94-2.06-.94 2.06-2.06.94zm-11 1L8.5 8.5l.94-2.06 2.06-.94-2.06-.94L8.5 2.5l-.94 2.06-2.06.94zm10 10l.94 2.06.94-2.06 2.06-.94-2.06-.94-.94-2.06-.94 2.06-2.06.94z\"/><path d=\"M17.41 7.96l-1.37-1.37c-.4-.4-.92-.59-1.43-.59-.52 0-1.04.2-1.43.59L10.3 9.45l-7.72 7.72c-.78.78-.78 2.05 0 2.83L4 21.41c.39.39.9.59 1.41.59.51 0 1.02-.2 1.41-.59l7.78-7.78 2.81-2.81c.8-.78.8-2.07 0-2.86zM5.41 20L4 18.59l7.72-7.72 1.47 1.35L5.41 20z\"/>\n",
              "  </svg>\n",
              "      </button>\n",
              "      \n",
              "  <style>\n",
              "    .colab-df-container {\n",
              "      display:flex;\n",
              "      flex-wrap:wrap;\n",
              "      gap: 12px;\n",
              "    }\n",
              "\n",
              "    .colab-df-convert {\n",
              "      background-color: #E8F0FE;\n",
              "      border: none;\n",
              "      border-radius: 50%;\n",
              "      cursor: pointer;\n",
              "      display: none;\n",
              "      fill: #1967D2;\n",
              "      height: 32px;\n",
              "      padding: 0 0 0 0;\n",
              "      width: 32px;\n",
              "    }\n",
              "\n",
              "    .colab-df-convert:hover {\n",
              "      background-color: #E2EBFA;\n",
              "      box-shadow: 0px 1px 2px rgba(60, 64, 67, 0.3), 0px 1px 3px 1px rgba(60, 64, 67, 0.15);\n",
              "      fill: #174EA6;\n",
              "    }\n",
              "\n",
              "    [theme=dark] .colab-df-convert {\n",
              "      background-color: #3B4455;\n",
              "      fill: #D2E3FC;\n",
              "    }\n",
              "\n",
              "    [theme=dark] .colab-df-convert:hover {\n",
              "      background-color: #434B5C;\n",
              "      box-shadow: 0px 1px 3px 1px rgba(0, 0, 0, 0.15);\n",
              "      filter: drop-shadow(0px 1px 2px rgba(0, 0, 0, 0.3));\n",
              "      fill: #FFFFFF;\n",
              "    }\n",
              "  </style>\n",
              "\n",
              "      <script>\n",
              "        const buttonEl =\n",
              "          document.querySelector('#df-a4275296-3f68-4517-8e36-c55564f0eac9 button.colab-df-convert');\n",
              "        buttonEl.style.display =\n",
              "          google.colab.kernel.accessAllowed ? 'block' : 'none';\n",
              "\n",
              "        async function convertToInteractive(key) {\n",
              "          const element = document.querySelector('#df-a4275296-3f68-4517-8e36-c55564f0eac9');\n",
              "          const dataTable =\n",
              "            await google.colab.kernel.invokeFunction('convertToInteractive',\n",
              "                                                     [key], {});\n",
              "          if (!dataTable) return;\n",
              "\n",
              "          const docLinkHtml = 'Like what you see? Visit the ' +\n",
              "            '<a target=\"_blank\" href=https://colab.research.google.com/notebooks/data_table.ipynb>data table notebook</a>'\n",
              "            + ' to learn more about interactive tables.';\n",
              "          element.innerHTML = '';\n",
              "          dataTable['output_type'] = 'display_data';\n",
              "          await google.colab.output.renderOutput(dataTable, element);\n",
              "          const docLink = document.createElement('div');\n",
              "          docLink.innerHTML = docLinkHtml;\n",
              "          element.appendChild(docLink);\n",
              "        }\n",
              "      </script>\n",
              "    </div>\n",
              "  </div>\n",
              "  "
            ]
          },
          "metadata": {},
          "execution_count": 26
        }
      ]
    },
    {
      "cell_type": "code",
      "source": [
        "print ('Let us check the two indices:\\n')\n",
        "print ('\\nPrimary index (TIME): \\n' + str(pivedu.index.levels[0].tolist()))\n",
        "print ('\\nSecondary index (GEO): \\n' + str(pivedu.index.levels[1].tolist()))"
      ],
      "metadata": {
        "colab": {
          "base_uri": "https://localhost:8080/"
        },
        "id": "lSNdZxM_oloU",
        "outputId": "2fb6a413-5e2a-4f64-e32f-99075ed4e1a1"
      },
      "execution_count": null,
      "outputs": [
        {
          "output_type": "stream",
          "name": "stdout",
          "text": [
            "Let us check the two indices:\n",
            "\n",
            "\n",
            "Primary index (TIME): \n",
            "[2000, 2001, 2002, 2003, 2004, 2005, 2006, 2007, 2008, 2009, 2010, 2011]\n",
            "\n",
            "Secondary index (GEO): \n",
            "['Austria', 'Belgium', 'Bulgaria', 'Cyprus', 'Czech Republic', 'Denmark', 'Estonia', 'Euro area (13 countries)', 'Euro area (15 countries)', 'Euro area (17 countries)', 'Euro area (18 countries)', 'European Union (25 countries)', 'European Union (27 countries)', 'European Union (28 countries)', 'Finland', 'France', 'Germany (until 1990 former territory of the FRG)', 'Greece', 'Hungary', 'Ireland', 'Italy', 'Latvia', 'Lithuania', 'Luxembourg', 'Malta', 'Netherlands', 'Poland', 'Portugal', 'Romania', 'Slovakia', 'Slovenia', 'Spain']\n"
          ]
        }
      ]
    },
    {
      "cell_type": "code",
      "source": [
        "#Extract 2010 set of values\n",
        "edu2010=pivedu.loc[2010]\n",
        "edu2010.head()"
      ],
      "metadata": {
        "colab": {
          "base_uri": "https://localhost:8080/",
          "height": 316
        },
        "id": "hrp4_bNuox4l",
        "outputId": "d8c9c433-1223-49a4-d795-c6f964d22078"
      },
      "execution_count": null,
      "outputs": [
        {
          "output_type": "execute_result",
          "data": {
            "text/plain": [
              "INDIC_ED        Total public expenditure on education as % of GDP, for all levels of education combined\n",
              "GEO                                                                                                    \n",
              "Austria                                                      5.91                                      \n",
              "Belgium                                                      6.58                                      \n",
              "Bulgaria                                                     4.10                                      \n",
              "Cyprus                                                       7.92                                      \n",
              "Czech Republic                                               4.25                                      "
            ],
            "text/html": [
              "\n",
              "  <div id=\"df-22b8b245-c278-437a-817c-f6fd83a70405\">\n",
              "    <div class=\"colab-df-container\">\n",
              "      <div>\n",
              "<style scoped>\n",
              "    .dataframe tbody tr th:only-of-type {\n",
              "        vertical-align: middle;\n",
              "    }\n",
              "\n",
              "    .dataframe tbody tr th {\n",
              "        vertical-align: top;\n",
              "    }\n",
              "\n",
              "    .dataframe thead th {\n",
              "        text-align: right;\n",
              "    }\n",
              "</style>\n",
              "<table border=\"1\" class=\"dataframe\">\n",
              "  <thead>\n",
              "    <tr style=\"text-align: right;\">\n",
              "      <th>INDIC_ED</th>\n",
              "      <th>Total public expenditure on education as % of GDP, for all levels of education combined</th>\n",
              "    </tr>\n",
              "    <tr>\n",
              "      <th>GEO</th>\n",
              "      <th></th>\n",
              "    </tr>\n",
              "  </thead>\n",
              "  <tbody>\n",
              "    <tr>\n",
              "      <th>Austria</th>\n",
              "      <td>5.91</td>\n",
              "    </tr>\n",
              "    <tr>\n",
              "      <th>Belgium</th>\n",
              "      <td>6.58</td>\n",
              "    </tr>\n",
              "    <tr>\n",
              "      <th>Bulgaria</th>\n",
              "      <td>4.10</td>\n",
              "    </tr>\n",
              "    <tr>\n",
              "      <th>Cyprus</th>\n",
              "      <td>7.92</td>\n",
              "    </tr>\n",
              "    <tr>\n",
              "      <th>Czech Republic</th>\n",
              "      <td>4.25</td>\n",
              "    </tr>\n",
              "  </tbody>\n",
              "</table>\n",
              "</div>\n",
              "      <button class=\"colab-df-convert\" onclick=\"convertToInteractive('df-22b8b245-c278-437a-817c-f6fd83a70405')\"\n",
              "              title=\"Convert this dataframe to an interactive table.\"\n",
              "              style=\"display:none;\">\n",
              "        \n",
              "  <svg xmlns=\"http://www.w3.org/2000/svg\" height=\"24px\"viewBox=\"0 0 24 24\"\n",
              "       width=\"24px\">\n",
              "    <path d=\"M0 0h24v24H0V0z\" fill=\"none\"/>\n",
              "    <path d=\"M18.56 5.44l.94 2.06.94-2.06 2.06-.94-2.06-.94-.94-2.06-.94 2.06-2.06.94zm-11 1L8.5 8.5l.94-2.06 2.06-.94-2.06-.94L8.5 2.5l-.94 2.06-2.06.94zm10 10l.94 2.06.94-2.06 2.06-.94-2.06-.94-.94-2.06-.94 2.06-2.06.94z\"/><path d=\"M17.41 7.96l-1.37-1.37c-.4-.4-.92-.59-1.43-.59-.52 0-1.04.2-1.43.59L10.3 9.45l-7.72 7.72c-.78.78-.78 2.05 0 2.83L4 21.41c.39.39.9.59 1.41.59.51 0 1.02-.2 1.41-.59l7.78-7.78 2.81-2.81c.8-.78.8-2.07 0-2.86zM5.41 20L4 18.59l7.72-7.72 1.47 1.35L5.41 20z\"/>\n",
              "  </svg>\n",
              "      </button>\n",
              "      \n",
              "  <style>\n",
              "    .colab-df-container {\n",
              "      display:flex;\n",
              "      flex-wrap:wrap;\n",
              "      gap: 12px;\n",
              "    }\n",
              "\n",
              "    .colab-df-convert {\n",
              "      background-color: #E8F0FE;\n",
              "      border: none;\n",
              "      border-radius: 50%;\n",
              "      cursor: pointer;\n",
              "      display: none;\n",
              "      fill: #1967D2;\n",
              "      height: 32px;\n",
              "      padding: 0 0 0 0;\n",
              "      width: 32px;\n",
              "    }\n",
              "\n",
              "    .colab-df-convert:hover {\n",
              "      background-color: #E2EBFA;\n",
              "      box-shadow: 0px 1px 2px rgba(60, 64, 67, 0.3), 0px 1px 3px 1px rgba(60, 64, 67, 0.15);\n",
              "      fill: #174EA6;\n",
              "    }\n",
              "\n",
              "    [theme=dark] .colab-df-convert {\n",
              "      background-color: #3B4455;\n",
              "      fill: #D2E3FC;\n",
              "    }\n",
              "\n",
              "    [theme=dark] .colab-df-convert:hover {\n",
              "      background-color: #434B5C;\n",
              "      box-shadow: 0px 1px 3px 1px rgba(0, 0, 0, 0.15);\n",
              "      filter: drop-shadow(0px 1px 2px rgba(0, 0, 0, 0.3));\n",
              "      fill: #FFFFFF;\n",
              "    }\n",
              "  </style>\n",
              "\n",
              "      <script>\n",
              "        const buttonEl =\n",
              "          document.querySelector('#df-22b8b245-c278-437a-817c-f6fd83a70405 button.colab-df-convert');\n",
              "        buttonEl.style.display =\n",
              "          google.colab.kernel.accessAllowed ? 'block' : 'none';\n",
              "\n",
              "        async function convertToInteractive(key) {\n",
              "          const element = document.querySelector('#df-22b8b245-c278-437a-817c-f6fd83a70405');\n",
              "          const dataTable =\n",
              "            await google.colab.kernel.invokeFunction('convertToInteractive',\n",
              "                                                     [key], {});\n",
              "          if (!dataTable) return;\n",
              "\n",
              "          const docLinkHtml = 'Like what you see? Visit the ' +\n",
              "            '<a target=\"_blank\" href=https://colab.research.google.com/notebooks/data_table.ipynb>data table notebook</a>'\n",
              "            + ' to learn more about interactive tables.';\n",
              "          element.innerHTML = '';\n",
              "          dataTable['output_type'] = 'display_data';\n",
              "          await google.colab.output.renderOutput(dataTable, element);\n",
              "          const docLink = document.createElement('div');\n",
              "          docLink.innerHTML = docLinkHtml;\n",
              "          element.appendChild(docLink);\n",
              "        }\n",
              "      </script>\n",
              "    </div>\n",
              "  </div>\n",
              "  "
            ]
          },
          "metadata": {},
          "execution_count": 28
        }
      ]
    },
    {
      "cell_type": "code",
      "source": [
        "#Store column names and clear them for better handling. Do the same with countries\n",
        "edu2010 = edu2010.rename(index={'Euro area (13 countries)': 'EU13',\n",
        "'Euro area (15 countries)': 'EU15',\n",
        "'European Union (25 countries)': 'EU25',\n",
        "'European Union (27 countries)': 'EU27',\n",
        "'Former Yugoslav Republic of Macedonia, the': 'Macedonia',\n",
        "'Germany (until 1990 former territory of the FRG)': 'Germany'\n",
        "})\n",
        "\n",
        "features = edu2010.columns.tolist()\n",
        "\n",
        "countries = edu2010.index.tolist()\n",
        "\n",
        "edu2010.columns=range(1)\n",
        "edu2010.head()"
      ],
      "metadata": {
        "colab": {
          "base_uri": "https://localhost:8080/",
          "height": 237
        },
        "id": "krlBa69mo-Wt",
        "outputId": "68f40e0e-6386-47ef-fc11-89639eb4a20a"
      },
      "execution_count": null,
      "outputs": [
        {
          "output_type": "execute_result",
          "data": {
            "text/plain": [
              "                   0\n",
              "GEO                 \n",
              "Austria         5.91\n",
              "Belgium         6.58\n",
              "Bulgaria        4.10\n",
              "Cyprus          7.92\n",
              "Czech Republic  4.25"
            ],
            "text/html": [
              "\n",
              "  <div id=\"df-b20b10aa-600b-496c-99ba-9744efa3450f\">\n",
              "    <div class=\"colab-df-container\">\n",
              "      <div>\n",
              "<style scoped>\n",
              "    .dataframe tbody tr th:only-of-type {\n",
              "        vertical-align: middle;\n",
              "    }\n",
              "\n",
              "    .dataframe tbody tr th {\n",
              "        vertical-align: top;\n",
              "    }\n",
              "\n",
              "    .dataframe thead th {\n",
              "        text-align: right;\n",
              "    }\n",
              "</style>\n",
              "<table border=\"1\" class=\"dataframe\">\n",
              "  <thead>\n",
              "    <tr style=\"text-align: right;\">\n",
              "      <th></th>\n",
              "      <th>0</th>\n",
              "    </tr>\n",
              "    <tr>\n",
              "      <th>GEO</th>\n",
              "      <th></th>\n",
              "    </tr>\n",
              "  </thead>\n",
              "  <tbody>\n",
              "    <tr>\n",
              "      <th>Austria</th>\n",
              "      <td>5.91</td>\n",
              "    </tr>\n",
              "    <tr>\n",
              "      <th>Belgium</th>\n",
              "      <td>6.58</td>\n",
              "    </tr>\n",
              "    <tr>\n",
              "      <th>Bulgaria</th>\n",
              "      <td>4.10</td>\n",
              "    </tr>\n",
              "    <tr>\n",
              "      <th>Cyprus</th>\n",
              "      <td>7.92</td>\n",
              "    </tr>\n",
              "    <tr>\n",
              "      <th>Czech Republic</th>\n",
              "      <td>4.25</td>\n",
              "    </tr>\n",
              "  </tbody>\n",
              "</table>\n",
              "</div>\n",
              "      <button class=\"colab-df-convert\" onclick=\"convertToInteractive('df-b20b10aa-600b-496c-99ba-9744efa3450f')\"\n",
              "              title=\"Convert this dataframe to an interactive table.\"\n",
              "              style=\"display:none;\">\n",
              "        \n",
              "  <svg xmlns=\"http://www.w3.org/2000/svg\" height=\"24px\"viewBox=\"0 0 24 24\"\n",
              "       width=\"24px\">\n",
              "    <path d=\"M0 0h24v24H0V0z\" fill=\"none\"/>\n",
              "    <path d=\"M18.56 5.44l.94 2.06.94-2.06 2.06-.94-2.06-.94-.94-2.06-.94 2.06-2.06.94zm-11 1L8.5 8.5l.94-2.06 2.06-.94-2.06-.94L8.5 2.5l-.94 2.06-2.06.94zm10 10l.94 2.06.94-2.06 2.06-.94-2.06-.94-.94-2.06-.94 2.06-2.06.94z\"/><path d=\"M17.41 7.96l-1.37-1.37c-.4-.4-.92-.59-1.43-.59-.52 0-1.04.2-1.43.59L10.3 9.45l-7.72 7.72c-.78.78-.78 2.05 0 2.83L4 21.41c.39.39.9.59 1.41.59.51 0 1.02-.2 1.41-.59l7.78-7.78 2.81-2.81c.8-.78.8-2.07 0-2.86zM5.41 20L4 18.59l7.72-7.72 1.47 1.35L5.41 20z\"/>\n",
              "  </svg>\n",
              "      </button>\n",
              "      \n",
              "  <style>\n",
              "    .colab-df-container {\n",
              "      display:flex;\n",
              "      flex-wrap:wrap;\n",
              "      gap: 12px;\n",
              "    }\n",
              "\n",
              "    .colab-df-convert {\n",
              "      background-color: #E8F0FE;\n",
              "      border: none;\n",
              "      border-radius: 50%;\n",
              "      cursor: pointer;\n",
              "      display: none;\n",
              "      fill: #1967D2;\n",
              "      height: 32px;\n",
              "      padding: 0 0 0 0;\n",
              "      width: 32px;\n",
              "    }\n",
              "\n",
              "    .colab-df-convert:hover {\n",
              "      background-color: #E2EBFA;\n",
              "      box-shadow: 0px 1px 2px rgba(60, 64, 67, 0.3), 0px 1px 3px 1px rgba(60, 64, 67, 0.15);\n",
              "      fill: #174EA6;\n",
              "    }\n",
              "\n",
              "    [theme=dark] .colab-df-convert {\n",
              "      background-color: #3B4455;\n",
              "      fill: #D2E3FC;\n",
              "    }\n",
              "\n",
              "    [theme=dark] .colab-df-convert:hover {\n",
              "      background-color: #434B5C;\n",
              "      box-shadow: 0px 1px 3px 1px rgba(0, 0, 0, 0.15);\n",
              "      filter: drop-shadow(0px 1px 2px rgba(0, 0, 0, 0.3));\n",
              "      fill: #FFFFFF;\n",
              "    }\n",
              "  </style>\n",
              "\n",
              "      <script>\n",
              "        const buttonEl =\n",
              "          document.querySelector('#df-b20b10aa-600b-496c-99ba-9744efa3450f button.colab-df-convert');\n",
              "        buttonEl.style.display =\n",
              "          google.colab.kernel.accessAllowed ? 'block' : 'none';\n",
              "\n",
              "        async function convertToInteractive(key) {\n",
              "          const element = document.querySelector('#df-b20b10aa-600b-496c-99ba-9744efa3450f');\n",
              "          const dataTable =\n",
              "            await google.colab.kernel.invokeFunction('convertToInteractive',\n",
              "                                                     [key], {});\n",
              "          if (!dataTable) return;\n",
              "\n",
              "          const docLinkHtml = 'Like what you see? Visit the ' +\n",
              "            '<a target=\"_blank\" href=https://colab.research.google.com/notebooks/data_table.ipynb>data table notebook</a>'\n",
              "            + ' to learn more about interactive tables.';\n",
              "          element.innerHTML = '';\n",
              "          dataTable['output_type'] = 'display_data';\n",
              "          await google.colab.output.renderOutput(dataTable, element);\n",
              "          const docLink = document.createElement('div');\n",
              "          docLink.innerHTML = docLinkHtml;\n",
              "          element.appendChild(docLink);\n",
              "        }\n",
              "      </script>\n",
              "    </div>\n",
              "  </div>\n",
              "  "
            ]
          },
          "metadata": {},
          "execution_count": 29
        }
      ]
    },
    {
      "cell_type": "code",
      "source": [
        "#Check what is going on in the NaN data\n",
        "nan_countries=np.sum(np.where(edu2010.isnull(),1,0),axis=1)\n",
        "plt.bar(np.arange(nan_countries.shape[0]),nan_countries)\n",
        "plt.xticks(np.arange(nan_countries.shape[0]),countries,rotation=90,horizontalalignment='left',\n",
        "fontsize=15)\n",
        "fig = plt.gcf()\n",
        "fig.set_size_inches((12,5))"
      ],
      "metadata": {
        "colab": {
          "base_uri": "https://localhost:8080/",
          "height": 485
        },
        "id": "BiOhMq2XpFrF",
        "outputId": "0263dd31-df26-4239-b2b4-025beea8b4b8"
      },
      "execution_count": null,
      "outputs": [
        {
          "output_type": "display_data",
          "data": {
            "text/plain": [
              "<Figure size 864x360 with 1 Axes>"
            ],
            "image/png": "[encoded data removed]"
          },
          "metadata": {
            "needs_background": "light"
          }
        }
      ]
    },
    {
      "cell_type": "code",
      "source": [
        "#Remove non info countries\n",
        "wrk_countries = nan_countries<4\n",
        "\n",
        "educlean=edu2010.loc[wrk_countries] #.ix - Construct an open mesh from multiple sequences.\n",
        "\n",
        "#Let us check the features we have\n",
        "na_features = np.sum(np.where(educlean.isnull(),1,0),axis=0)\n",
        "print (na_features)\n",
        "\n",
        "plt.bar(np.arange(na_features.shape[0]),na_features)\n",
        "plt.xticks(fontsize=12)\n",
        "fig = plt.gcf()\n",
        "fig.set_size_inches((8,4))"
      ],
      "metadata": {
        "colab": {
          "base_uri": "https://localhost:8080/",
          "height": 285
        },
        "id": "3Xu79eVJqWUt",
        "outputId": "4c5f5e11-ce73-453a-a623-be99b1577c01"
      },
      "execution_count": null,
      "outputs": [
        {
          "output_type": "stream",
          "name": "stdout",
          "text": [
            "[0]\n"
          ]
        },
        {
          "output_type": "display_data",
          "data": {
            "text/plain": [
              "<Figure size 576x288 with 1 Axes>"
            ],
            "image/png": "[encoded data removed]"
          },
          "metadata": {
            "needs_background": "light"
          }
        }
      ]
    },
    {
      "cell_type": "markdown",
      "source": [
        "Now we have two options, either to fill the missing data or to drop the missing data."
      ],
      "metadata": {
        "id": "MExbloYO08le"
      }
    },
    {
      "cell_type": "code",
      "source": [
        "#Option A fills those features with some value, at risk of extracting wrong information\n",
        "#Constant filling : edufill0=educlean.fillna(0)\n",
        "edufill=educlean.fillna(educlean.mean())\n",
        "print ('Filled in data shape: ' + str(edufill.shape))\n",
        "\n",
        "#Option B drops those features\n",
        "edudrop=educlean.dropna(axis=1)\n",
        "#dropna: Return object with labels on given axis omitted where alternately any or\n",
        "# all of the data are missing\n",
        "print ('Drop data shape: ' + str(edudrop.shape))"
      ],
      "metadata": {
        "colab": {
          "base_uri": "https://localhost:8080/"
        },
        "id": "dbnHi7-vsF4P",
        "outputId": "c7c92643-faca-4efc-938e-cd4071868e8b"
      },
      "execution_count": null,
      "outputs": [
        {
          "output_type": "stream",
          "name": "stdout",
          "text": [
            "Filled in data shape: (30, 1)\n",
            "Drop data shape: (30, 1)\n"
          ]
        }
      ]
    },
    {
      "cell_type": "markdown",
      "source": [
        "First we do the prediction with option A, filling the missing data."
      ],
      "metadata": {
        "id": "RPaM5Gfa1ETz"
      }
    },
    {
      "cell_type": "code",
      "source": [
        "scaler = StandardScaler() #Standardize features by removing the mean and scaling to unit variance\n",
        "\n",
        "X_train_fill = edufill.values\n",
        "X_train_fill = scaler.fit_transform(X_train_fill)\n",
        "\n",
        "clf = cluster.KMeans(init='k-means++', n_clusters=3, random_state=42)\n",
        "\n",
        "clf.fit(X_train_fill) #Compute k-means clustering.\n",
        "\n",
        "y_pred_fill = clf.predict(X_train_fill)\n",
        "#Predict the closest cluster each sample in X belongs to.\n",
        "\n",
        "idx=y_pred_fill.argsort()"
      ],
      "metadata": {
        "id": "5PZlC5U4Xyd3"
      },
      "execution_count": null,
      "outputs": []
    },
    {
      "cell_type": "markdown",
      "source": [
        "Then we do the prediction with option B, drop the missing data."
      ],
      "metadata": {
        "id": "RANXUEo71J28"
      }
    },
    {
      "cell_type": "code",
      "source": [
        "X_train_drop = edudrop.values\n",
        "X_train_drop = StandardScaler().fit_transform(X_train_drop)\n",
        "\n",
        "clf.fit(X_train_drop) #Compute k-means clustering.\n",
        "y_pred_drop = clf.predict(X_train_drop) #Predict the closest cluster of each sample in X."
      ],
      "metadata": {
        "id": "H0XFmoMDsfNb"
      },
      "execution_count": null,
      "outputs": []
    },
    {
      "cell_type": "code",
      "source": [
        "idx=y_pred_drop.argsort()\n",
        "plt.plot(np.arange(30),y_pred_drop[idx],'ro')\n",
        "wrk_countries_names = [countries[i] for i,item in enumerate(wrk_countries) if item ]\n",
        "\n",
        "plt.xticks(np.arange(len(wrk_countries_names)),[wrk_countries_names[i] for i in idx],\n",
        "rotation=90,horizontalalignment='left',fontsize=12)\n",
        "plt.title('Using dropped missing values data',size=15)\n",
        "fig = plt.gcf()\n",
        "plt.yticks([0,1,2])\n",
        "fig.set_size_inches((12,5))"
      ],
      "metadata": {
        "colab": {
          "base_uri": "https://localhost:8080/",
          "height": 475
        },
        "id": "SEbZ2a-EsyrL",
        "outputId": "e936e3b2-aa88-421f-c71c-bd7d6b5fc2a7"
      },
      "execution_count": null,
      "outputs": [
        {
          "output_type": "display_data",
          "data": {
            "text/plain": [
              "<Figure size 864x360 with 1 Axes>"
            ],
            "image/png": "[encoded data removed]"
          },
          "metadata": {
            "needs_background": "light"
          }
        }
      ]
    },
    {
      "cell_type": "code",
      "source": [
        "plt.plot(y_pred_drop+0.2*np.random.rand(30),y_pred_fill+0.2*np.random.rand(30),'bo')\n",
        "plt.xlabel('Predicted clusters for the filled in dataset.')\n",
        "plt.ylabel('Predicted clusters for the dropped missing values dataset.')\n",
        "plt.title('Correlations')\n",
        "plt.xticks([0,1,2])\n",
        "plt.yticks([0,1,2])"
      ],
      "metadata": {
        "colab": {
          "base_uri": "https://localhost:8080/",
          "height": 392
        },
        "id": "KbF8ZfmVt_IO",
        "outputId": "9e409165-77f4-4551-a987-eb4685896c9b"
      },
      "execution_count": null,
      "outputs": [
        {
          "output_type": "execute_result",
          "data": {
            "text/plain": [
              "([<matplotlib.axis.YTick at 0x7f3186bc3130>,\n",
              "  <matplotlib.axis.YTick at 0x7f3186bbfcd0>,\n",
              "  <matplotlib.axis.YTick at 0x7f3186bbccd0>],\n",
              " <a list of 3 Text major ticklabel objects>)"
            ]
          },
          "metadata": {},
          "execution_count": 36
        },
        {
          "output_type": "display_data",
          "data": {
            "text/plain": [
              "<Figure size 432x288 with 1 Axes>"
            ],
            "image/png": "[encoded data removed]"
          },
          "metadata": {
            "needs_background": "light"
          }
        }
      ]
    },
    {
      "cell_type": "code",
      "source": [
        "print ('Cluster 0: \\n' + str([wrk_countries_names[i] for i,item in enumerate(y_pred_fill)\n",
        "if item==0]))\n",
        "print ('Cluster 0: \\n' + str([wrk_countries_names[i] for i,item in enumerate(y_pred_drop)\n",
        "if item==0]))\n",
        "print ('\\n')\n",
        "print ('Cluster 1: \\n' + str([wrk_countries_names[i] for i,item in enumerate(y_pred_fill)\n",
        "if item==1]))\n",
        "print ('Cluster 1: \\n' + str([wrk_countries_names[i] for i,item in enumerate(y_pred_drop)\n",
        "if item==1]))\n",
        "print ('\\n')\n",
        "print ('Cluster 2: \\n' + str([wrk_countries_names[i] for i,item in enumerate(y_pred_fill)\n",
        "if item==2]))\n",
        "print ('Cluster 2: \\n' + str([wrk_countries_names[i] for i,item in enumerate(y_pred_drop)\n",
        "if item==2]))\n",
        "print ('\\n')"
      ],
      "metadata": {
        "colab": {
          "base_uri": "https://localhost:8080/"
        },
        "id": "urMC-vUhuKGk",
        "outputId": "5481b309-3645-4a14-e7d9-6411f5254b3e"
      },
      "execution_count": null,
      "outputs": [
        {
          "output_type": "stream",
          "name": "stdout",
          "text": [
            "Cluster 0: \n",
            "['Austria', 'Estonia', 'EU13', 'EU15', 'Euro area (17 countries)', 'Euro area (18 countries)', 'EU25', 'EU27', 'European Union (28 countries)', 'France', 'Germany', 'Hungary', 'Latvia', 'Lithuania', 'Netherlands', 'Poland', 'Portugal', 'Slovenia', 'Spain']\n",
            "Cluster 0: \n",
            "['Austria', 'Estonia', 'EU13', 'EU15', 'Euro area (17 countries)', 'Euro area (18 countries)', 'EU25', 'EU27', 'European Union (28 countries)', 'France', 'Germany', 'Hungary', 'Latvia', 'Lithuania', 'Netherlands', 'Poland', 'Portugal', 'Slovenia', 'Spain']\n",
            "\n",
            "\n",
            "Cluster 1: \n",
            "['Belgium', 'Cyprus', 'Denmark', 'Finland', 'Ireland', 'Malta']\n",
            "Cluster 1: \n",
            "['Belgium', 'Cyprus', 'Denmark', 'Finland', 'Ireland', 'Malta']\n",
            "\n",
            "\n",
            "Cluster 2: \n",
            "['Bulgaria', 'Czech Republic', 'Italy', 'Romania', 'Slovakia']\n",
            "Cluster 2: \n",
            "['Bulgaria', 'Czech Republic', 'Italy', 'Romania', 'Slovakia']\n",
            "\n",
            "\n"
          ]
        }
      ]
    },
    {
      "cell_type": "code",
      "source": [
        "from scipy.spatial import distance\n",
        "p = distance.cdist(X_train_drop[y_pred_drop==0,:],[clf.cluster_centers_[1]],'euclidean')\n",
        "#the distance of the elements of cluster 0 to the center of cluster 1\n",
        "\n",
        "fx = np.vectorize(np.int)\n",
        "\n",
        "plt.plot(np.arange(p.shape[0]),\n",
        "fx(p)\n",
        ")\n",
        "\n",
        "wrk_countries_names = [countries[i] for i,item in enumerate(wrk_countries) if item ]\n",
        "zero_countries_names = [wrk_countries_names[i] for i,item in enumerate(y_pred_drop)\n",
        "if item==0]\n",
        "plt.xticks(np.arange(len(zero_countries_names)),zero_countries_names,rotation=90,\n",
        "horizontalalignment='left',fontsize=12)"
      ],
      "metadata": {
        "colab": {
          "base_uri": "https://localhost:8080/",
          "height": 1000
        },
        "id": "OSdpJs14uNct",
        "outputId": "33fad4d7-aa39-435f-801f-92350fa0e38a"
      },
      "execution_count": null,
      "outputs": [
        {
          "output_type": "stream",
          "name": "stderr",
          "text": [
            "<ipython-input-38-920a7a4b1254>:5: DeprecationWarning: `np.int` is a deprecated alias for the builtin `int`. To silence this warning, use `int` by itself. Doing this will not modify any behavior and is safe. When replacing `np.int`, you may wish to use e.g. `np.int64` or `np.int32` to specify the precision. If you wish to review your current use, check the release note link for additional information.\n",
            "Deprecated in NumPy 1.20; for more details and guidance: https://numpy.org/devdocs/release/1.20.0-notes.html#deprecations\n",
            "  fx = np.vectorize(np.int)\n"
          ]
        },
        {
          "output_type": "execute_result",
          "data": {
            "text/plain": [
              "([<matplotlib.axis.XTick at 0x7f3186b761f0>,\n",
              "  <matplotlib.axis.XTick at 0x7f3186b761c0>,\n",
              "  <matplotlib.axis.XTick at 0x7f3186b7ee20>,\n",
              "  <matplotlib.axis.XTick at 0x7f3186b25e80>,\n",
              "  <matplotlib.axis.XTick at 0x7f3186b2f3d0>,\n",
              "  <matplotlib.axis.XTick at 0x7f3186b2f8e0>,\n",
              "  <matplotlib.axis.XTick at 0x7f3186b2fdf0>,\n",
              "  <matplotlib.axis.XTick at 0x7f3186b35340>,\n",
              "  <matplotlib.axis.XTick at 0x7f3186b35850>,\n",
              "  <matplotlib.axis.XTick at 0x7f3186b35d60>,\n",
              "  <matplotlib.axis.XTick at 0x7f3186b3c2b0>,\n",
              "  <matplotlib.axis.XTick at 0x7f3186b3c7c0>,\n",
              "  <matplotlib.axis.XTick at 0x7f3186b354c0>,\n",
              "  <matplotlib.axis.XTick at 0x7f3186b2f550>,\n",
              "  <matplotlib.axis.XTick at 0x7f3186b3c940>,\n",
              "  <matplotlib.axis.XTick at 0x7f3186b3ccd0>,\n",
              "  <matplotlib.axis.XTick at 0x7f3186b43220>,\n",
              "  <matplotlib.axis.XTick at 0x7f3186b43730>,\n",
              "  <matplotlib.axis.XTick at 0x7f3186b43c40>],\n",
              " [Text(0, 0, 'Austria'),\n",
              "  Text(0, 0, 'Estonia'),\n",
              "  Text(0, 0, 'EU13'),\n",
              "  Text(0, 0, 'EU15'),\n",
              "  Text(0, 0, 'Euro area (17 countries)'),\n",
              "  Text(0, 0, 'Euro area (18 countries)'),\n",
              "  Text(0, 0, 'EU25'),\n",
              "  Text(0, 0, 'EU27'),\n",
              "  Text(0, 0, 'European Union (28 countries)'),\n",
              "  Text(0, 0, 'France'),\n",
              "  Text(0, 0, 'Germany'),\n",
              "  Text(0, 0, 'Hungary'),\n",
              "  Text(0, 0, 'Latvia'),\n",
              "  Text(0, 0, 'Lithuania'),\n",
              "  Text(0, 0, 'Netherlands'),\n",
              "  Text(0, 0, 'Poland'),\n",
              "  Text(0, 0, 'Portugal'),\n",
              "  Text(0, 0, 'Slovenia'),\n",
              "  Text(0, 0, 'Spain')])"
            ]
          },
          "metadata": {},
          "execution_count": 38
        },
        {
          "output_type": "display_data",
          "data": {
            "text/plain": [
              "<Figure size 432x288 with 1 Axes>"
            ],
            "image/png": "[encoded data removed]"
          },
          "metadata": {
            "needs_background": "light"
          }
        }
      ]
    },
    {
      "cell_type": "code",
      "source": [
        "from scipy.spatial import distance\n",
        "p = distance.cdist(X_train_drop[y_pred_drop==0,:],[clf.cluster_centers_[1]],'euclidean')\n",
        "pown = distance.cdist(X_train_drop[y_pred_drop==0,:],[clf.cluster_centers_[0]],'euclidean')\n",
        "\n",
        "width=0.45\n",
        "p0=plt.plot(np.arange(p.shape[0]),fx(p),width)\n",
        "p1=plt.plot(np.arange(p.shape[0])+width,fx(pown),width,color = 'red')\n",
        "\n",
        "wrk_countries_names = [countries[i] for i,item in enumerate(wrk_countries) if item ]\n",
        "zero_countries_names = [wrk_countries_names[i] for i,item in enumerate(y_pred_drop)\n",
        "if item==0]\n",
        "plt.xticks(np.arange(len(zero_countries_names)),zero_countries_names,rotation=90,\n",
        "horizontalalignment='left',fontsize=12)\n",
        "plt.legend( (p0[0], p1[0]), ('d -> 1', 'd -> 0') ,loc=1)"
      ],
      "metadata": {
        "colab": {
          "base_uri": "https://localhost:8080/",
          "height": 456
        },
        "id": "3N8bOuSAupIl",
        "outputId": "e7e46f9f-8e97-4e33-9d12-cfa8abc4ad38"
      },
      "execution_count": null,
      "outputs": [
        {
          "output_type": "execute_result",
          "data": {
            "text/plain": [
              "<matplotlib.legend.Legend at 0x7f3186a8e250>"
            ]
          },
          "metadata": {},
          "execution_count": 40
        },
        {
          "output_type": "display_data",
          "data": {
            "text/plain": [
              "<Figure size 432x288 with 1 Axes>"
            ],
            "image/png": "[encoded data removed]"
          },
          "metadata": {
            "needs_background": "light"
          }
        }
      ]
    },
    {
      "cell_type": "code",
      "source": [
        "X_train = edudrop.values\n",
        "clf = cluster.KMeans(init='k-means++', n_clusters=4, random_state=0)\n",
        "clf.fit(X_train)\n",
        "y_pred = clf.predict(X_train)\n",
        "\n",
        "idx=y_pred.argsort()\n",
        "plt.plot(np.arange(30),y_pred[idx],'ro')\n",
        "wrk_countries_names = [countries[i] for i,item in enumerate(wrk_countries) if item ]\n",
        "\n",
        "plt.xticks(np.arange(len(wrk_countries_names)),[wrk_countries_names[i] for i in idx],rotation=90,\n",
        "horizontalalignment='left',fontsize=12)\n",
        "plt.title('Using drop features',size=15)\n",
        "plt.yticks([0,1,2,3])\n",
        "fig = plt.gcf()\n",
        "fig.set_size_inches((12,5))"
      ],
      "metadata": {
        "colab": {
          "base_uri": "https://localhost:8080/",
          "height": 475
        },
        "id": "WMGRcB7Guyf8",
        "outputId": "ccd87ab2-e997-47b6-ce74-7b515879a892"
      },
      "execution_count": null,
      "outputs": [
        {
          "output_type": "display_data",
          "data": {
            "text/plain": [
              "<Figure size 864x360 with 1 Axes>"
            ],
            "image/png": "[encoded data removed]"
          },
          "metadata": {
            "needs_background": "light"
          }
        }
      ]
    },
    {
      "cell_type": "code",
      "source": [
        "width=0.2\n",
        "p0 = plt.bar(np.arange(8)+1*width,clf.cluster_centers_[0],width,color='r')\n",
        "p1 = plt.bar(np.arange(8),clf.cluster_centers_[1],width,color='b')\n",
        "p2 = plt.bar(np.arange(8)+3*width,clf.cluster_centers_[2],width,color='yellow')\n",
        "p3 = plt.bar(np.arange(8)+2*width,clf.cluster_centers_[3],width,color='pink')\n",
        "\n",
        "plt.legend( (p0[0], p1[0], p2[0], p3[0]), ('Cluster 0', 'Cluster 1', 'Cluster 2',\n",
        "'Cluster 3') ,loc=9)\n",
        "plt.xticks(np.arange(8) + 0.5, np.arange(8),size=12)\n",
        "plt.yticks(size=12)\n",
        "plt.xlabel('Economical indicator')\n",
        "plt.ylabel('Average expenditure')\n",
        "fig = plt.gcf()\n",
        "fig.set_size_inches((12,5))"
      ],
      "metadata": {
        "colab": {
          "base_uri": "https://localhost:8080/",
          "height": 307
        },
        "id": "eox63C7Ju4Fi",
        "outputId": "d7ca2805-e37c-4a01-babc-5d590c260f53"
      },
      "execution_count": null,
      "outputs": [
        {
          "output_type": "display_data",
          "data": {
            "text/plain": [
              "<Figure size 864x360 with 1 Axes>"
            ],
            "image/png": "[encoded data removed]"
          },
          "metadata": {
            "needs_background": "light"
          }
        }
      ]
    },
    {
      "cell_type": "code",
      "source": [
        "print ('Cluster 0: \\n' + str([wrk_countries_names[i] for i,item in enumerate(y_pred) if item==0]))\n",
        "\n",
        "print ('Cluster 1: \\n' + str([wrk_countries_names[i] for i,item in enumerate(y_pred) if item==1]))\n",
        "\n",
        "print ('Cluster 2: \\n' + str([wrk_countries_names[i] for i,item in enumerate(y_pred) if item==2]))\n",
        "\n",
        "print ('Cluster 3: \\n' + str([wrk_countries_names[i] for i,item in enumerate(y_pred) if item==3]))\n",
        "\n",
        "#Save data for future use.\n",
        "import pickle\n",
        "ofname = open('edu2010.pkl', 'wb')\n",
        "s = pickle.dump([edu2010, wrk_countries_names,y_pred ],ofname)\n",
        "ofname.close()"
      ],
      "metadata": {
        "colab": {
          "base_uri": "https://localhost:8080/"
        },
        "id": "ryt8TIbKvG3X",
        "outputId": "ef854452-3950-4e5f-e2bc-0f980854deff"
      },
      "execution_count": null,
      "outputs": [
        {
          "output_type": "stream",
          "name": "stdout",
          "text": [
            "Cluster 0: \n",
            "['Austria', 'Belgium', 'Finland', 'France', 'Ireland', 'Malta', 'Netherlands']\n",
            "Cluster 1: \n",
            "['Bulgaria', 'Czech Republic', 'Italy', 'Romania', 'Slovakia']\n",
            "Cluster 2: \n",
            "['Cyprus', 'Denmark']\n",
            "Cluster 3: \n",
            "['Estonia', 'EU13', 'EU15', 'Euro area (17 countries)', 'Euro area (18 countries)', 'EU25', 'EU27', 'European Union (28 countries)', 'Germany', 'Hungary', 'Latvia', 'Lithuania', 'Poland', 'Portugal', 'Slovenia', 'Spain']\n"
          ]
        }
      ]
    },
    {
      "cell_type": "markdown",
      "source": [
        "# **Spectral clustering**"
      ],
      "metadata": {
        "id": "b7i5fcGxYosm"
      }
    },
    {
      "cell_type": "code",
      "source": [
        "from scipy.cluster.hierarchy import linkage, dendrogram\n",
        "from scipy.spatial.distance import pdist\n",
        "from sklearn.preprocessing import StandardScaler\n",
        "from sklearn.neighbors import kneighbors_graph\n",
        "from sklearn.metrics import euclidean_distances\n",
        "\n",
        "X = StandardScaler().fit_transform(edudrop.values)\n",
        "\n",
        "distances = euclidean_distances(edudrop.values)\n",
        "\n",
        "spectral = cluster.SpectralClustering(n_clusters=4, affinity=\"nearest_neighbors\")\n",
        "spectral.fit(edudrop.values)\n",
        "\n",
        "y_pred = spectral.labels_.astype(np.int)"
      ],
      "metadata": {
        "colab": {
          "base_uri": "https://localhost:8080/"
        },
        "id": "wGIO4b3wYrod",
        "outputId": "6e3a0cd4-a3e0-4093-85fc-b350fa09117b"
      },
      "execution_count": null,
      "outputs": [
        {
          "output_type": "stream",
          "name": "stderr",
          "text": [
            "<ipython-input-48-acc19d2cb325>:14: DeprecationWarning: `np.int` is a deprecated alias for the builtin `int`. To silence this warning, use `int` by itself. Doing this will not modify any behavior and is safe. When replacing `np.int`, you may wish to use e.g. `np.int64` or `np.int32` to specify the precision. If you wish to review your current use, check the release note link for additional information.\n",
            "Deprecated in NumPy 1.20; for more details and guidance: https://numpy.org/devdocs/release/1.20.0-notes.html#deprecations\n",
            "  y_pred = spectral.labels_.astype(np.int)\n"
          ]
        }
      ]
    },
    {
      "cell_type": "code",
      "source": [
        "idx=y_pred.argsort()\n",
        "\n",
        "plt.plot(np.arange(30),y_pred[idx],'ro')\n",
        "wrk_countries_names = [countries[i] for i,item in enumerate(wrk_countries) if item ]\n",
        "\n",
        "plt.xticks(np.arange(len(wrk_countries_names)),[wrk_countries_names[i]\n",
        "for i in idx],rotation=90,horizontalalignment='left',fontsize=12)\n",
        "\n",
        "plt.yticks([0,1,2,3])\n",
        "\n",
        "plt.title('Applying Spectral Clustering on the drop features',size=15)\n",
        "fig = plt.gcf()\n",
        "fig.set_size_inches((12,5))"
      ],
      "metadata": {
        "colab": {
          "base_uri": "https://localhost:8080/",
          "height": 475
        },
        "id": "DSGKj1p_YszN",
        "outputId": "98e9da04-92e4-4bf7-953c-dbc79d5c87fc"
      },
      "execution_count": null,
      "outputs": [
        {
          "output_type": "display_data",
          "data": {
            "text/plain": [
              "<Figure size 864x360 with 1 Axes>"
            ],
            "image/png": "[encoded data removed]"
          },
          "metadata": {
            "needs_background": "light"
          }
        }
      ]
    },
    {
      "cell_type": "code",
      "source": [
        "X_train = edudrop.values\n",
        "dist = pdist(X_train,'euclidean')\n",
        "linkage_matrix = linkage(dist,method = 'complete');\n",
        "plt.figure() # we need a tall figure\n",
        "fig = plt.gcf()\n",
        "fig.set_size_inches((12,12))\n",
        "dendrogram(linkage_matrix, orientation=\"right\", color_threshold = 4,labels = wrk_countries_names, leaf_font_size=20);\n",
        "\n",
        "plt.show()"
      ],
      "metadata": {
        "colab": {
          "base_uri": "https://localhost:8080/",
          "height": 459
        },
        "id": "5ZdSSzCGYs10",
        "outputId": "0f35f7ce-ae97-47d4-a94f-5cf328e100b0"
      },
      "execution_count": null,
      "outputs": [
        {
          "output_type": "display_data",
          "data": {
            "text/plain": [
              "<Figure size 864x864 with 1 Axes>"
            ],
            "image/png": "[encoded data removed]"
          },
          "metadata": {
            "needs_background": "light"
          }
        }
      ]
    },
    {
      "cell_type": "markdown",
      "source": [
        "# **Pipeline of the Case study**\n",
        "\n"
      ],
      "metadata": {
        "id": "7t8ZC9oMquoO"
      }
    },
    {
      "cell_type": "markdown",
      "source": [
        "First we get the data from Eurostat, which is also used in the previous exercise in kaggle. Next in the casestudy, we apply the clustering to analyze the countries according to their education resources.\n",
        "We try the code with 3 and with 4 clusters.\n",
        "Next, we see that there is some missing data. We can use two different methods of dealing with this problem. Either to fill the missing data by for example an average value or drop the country that contains missing data.\n",
        "\n",
        "Lastly, we can use spectral clustering which obtains more balanced clusters. The cluster names change a bit but the content remains almost the same!"
      ],
      "metadata": {
        "id": "DNc6gE5Mx7-M"
      }
    }
  ]
}